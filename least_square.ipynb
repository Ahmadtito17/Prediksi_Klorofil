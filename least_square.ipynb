{
 "cells": [
  {
   "cell_type": "code",
   "execution_count": 14,
   "id": "1800f0cc",
   "metadata": {},
   "outputs": [
    {
     "data": {
      "text/html": [
       "<div>\n",
       "<style scoped>\n",
       "    .dataframe tbody tr th:only-of-type {\n",
       "        vertical-align: middle;\n",
       "    }\n",
       "\n",
       "    .dataframe tbody tr th {\n",
       "        vertical-align: top;\n",
       "    }\n",
       "\n",
       "    .dataframe thead th {\n",
       "        text-align: right;\n",
       "    }\n",
       "</style>\n",
       "<table border=\"1\" class=\"dataframe\">\n",
       "  <thead>\n",
       "    <tr style=\"text-align: right;\">\n",
       "      <th></th>\n",
       "      <th>R</th>\n",
       "      <th>G</th>\n",
       "      <th>B</th>\n",
       "      <th>Excess Green (ExG)</th>\n",
       "    </tr>\n",
       "  </thead>\n",
       "  <tbody>\n",
       "    <tr>\n",
       "      <th>0</th>\n",
       "      <td>151</td>\n",
       "      <td>149.0</td>\n",
       "      <td>106.40</td>\n",
       "      <td>40.60</td>\n",
       "    </tr>\n",
       "    <tr>\n",
       "      <th>1</th>\n",
       "      <td>151</td>\n",
       "      <td>149.0</td>\n",
       "      <td>109.78</td>\n",
       "      <td>37.22</td>\n",
       "    </tr>\n",
       "    <tr>\n",
       "      <th>2</th>\n",
       "      <td>149</td>\n",
       "      <td>149.0</td>\n",
       "      <td>106.40</td>\n",
       "      <td>42.60</td>\n",
       "    </tr>\n",
       "    <tr>\n",
       "      <th>3</th>\n",
       "      <td>149</td>\n",
       "      <td>149.0</td>\n",
       "      <td>130.06</td>\n",
       "      <td>18.94</td>\n",
       "    </tr>\n",
       "    <tr>\n",
       "      <th>4</th>\n",
       "      <td>149</td>\n",
       "      <td>151.4</td>\n",
       "      <td>106.40</td>\n",
       "      <td>47.40</td>\n",
       "    </tr>\n",
       "    <tr>\n",
       "      <th>...</th>\n",
       "      <td>...</td>\n",
       "      <td>...</td>\n",
       "      <td>...</td>\n",
       "      <td>...</td>\n",
       "    </tr>\n",
       "    <tr>\n",
       "      <th>70</th>\n",
       "      <td>149</td>\n",
       "      <td>151.4</td>\n",
       "      <td>106.40</td>\n",
       "      <td>47.40</td>\n",
       "    </tr>\n",
       "    <tr>\n",
       "      <th>71</th>\n",
       "      <td>147</td>\n",
       "      <td>151.4</td>\n",
       "      <td>136.82</td>\n",
       "      <td>18.98</td>\n",
       "    </tr>\n",
       "    <tr>\n",
       "      <th>72</th>\n",
       "      <td>149</td>\n",
       "      <td>151.4</td>\n",
       "      <td>136.82</td>\n",
       "      <td>16.98</td>\n",
       "    </tr>\n",
       "    <tr>\n",
       "      <th>73</th>\n",
       "      <td>164</td>\n",
       "      <td>151.4</td>\n",
       "      <td>109.78</td>\n",
       "      <td>29.02</td>\n",
       "    </tr>\n",
       "    <tr>\n",
       "      <th>74</th>\n",
       "      <td>147</td>\n",
       "      <td>151.4</td>\n",
       "      <td>136.82</td>\n",
       "      <td>18.98</td>\n",
       "    </tr>\n",
       "  </tbody>\n",
       "</table>\n",
       "<p>75 rows × 4 columns</p>\n",
       "</div>"
      ],
      "text/plain": [
       "      R      G       B  Excess Green (ExG)\n",
       "0   151  149.0  106.40               40.60\n",
       "1   151  149.0  109.78               37.22\n",
       "2   149  149.0  106.40               42.60\n",
       "3   149  149.0  130.06               18.94\n",
       "4   149  151.4  106.40               47.40\n",
       "..  ...    ...     ...                 ...\n",
       "70  149  151.4  106.40               47.40\n",
       "71  147  151.4  136.82               18.98\n",
       "72  149  151.4  136.82               16.98\n",
       "73  164  151.4  109.78               29.02\n",
       "74  147  151.4  136.82               18.98\n",
       "\n",
       "[75 rows x 4 columns]"
      ]
     },
     "execution_count": 14,
     "metadata": {},
     "output_type": "execute_result"
    }
   ],
   "source": [
    "import pandas as pd\n",
    "\n",
    "# Buka file Excel\n",
    "file_path = \"./Contoh/Hasil_RGB_ExG_HH01.xlsx\"\n",
    "df = pd.read_excel(file_path)\n",
    "df"
   ]
  },
  {
   "cell_type": "code",
   "execution_count": 15,
   "id": "fb7543c1",
   "metadata": {},
   "outputs": [],
   "source": [
    "# Set nilai klorofil semua baris menjadi 0.6494\n",
    "df['Klorofil'] = 0.6494\n",
    "\n",
    "# Hitung regresi linier sederhana\n",
    "x = df['Excess Green (ExG)']\n",
    "y = df['Klorofil']\n",
    "\n",
    "x_mean = x.mean()\n",
    "y_mean = y.mean()\n",
    "\n",
    "b = ((x - x_mean) * (y - y_mean)).sum() / ((x - x_mean)**2).sum()\n",
    "a = y_mean - b * x_mean"
   ]
  },
  {
   "cell_type": "code",
   "execution_count": 16,
   "id": "1838479c",
   "metadata": {},
   "outputs": [
    {
     "name": "stdout",
     "output_type": "stream",
     "text": [
      "Intersep a = 0.6494\n",
      "Koefisien b = 0.0\n",
      "Persamaan regresi: y = 0.6494 + 0.000000x\n"
     ]
    }
   ],
   "source": [
    "print(f\"Intersep a = {a}\")\n",
    "print(f\"Koefisien b = {b}\")\n",
    "print(f\"Persamaan regresi: y = {a:.4f} + {b:.6f}x\")"
   ]
  },
  {
   "cell_type": "code",
   "execution_count": 17,
   "id": "b3dbd866",
   "metadata": {},
   "outputs": [
    {
     "name": "stdout",
     "output_type": "stream",
     "text": [
      "\n",
      "========== Hasil Prediksi ==========\n",
      "    Excess Green (ExG)  Prediksi_Klorofil\n",
      "0                40.60             0.6494\n",
      "1                37.22             0.6494\n",
      "2                42.60             0.6494\n",
      "3                18.94             0.6494\n",
      "4                47.40             0.6494\n",
      "..                 ...                ...\n",
      "70               47.40             0.6494\n",
      "71               18.98             0.6494\n",
      "72               16.98             0.6494\n",
      "73               29.02             0.6494\n",
      "74               18.98             0.6494\n",
      "\n",
      "[75 rows x 2 columns]\n"
     ]
    }
   ],
   "source": [
    "# Hitung prediksi berdasarkan persamaan regresi\n",
    "df['Prediksi_Klorofil'] = a + b * df['Excess Green (ExG)']\n",
    "\n",
    "# Tampilkan hasil prediksi\n",
    "print(\"\\n========== Hasil Prediksi ==========\")\n",
    "print(df[['Excess Green (ExG)', 'Prediksi_Klorofil']])\n"
   ]
  },
  {
   "cell_type": "code",
   "execution_count": 18,
   "id": "042f049a",
   "metadata": {},
   "outputs": [
    {
     "name": "stdout",
     "output_type": "stream",
     "text": [
      "\n",
      "========== Evaluasi Model ==========\n",
      "MAE  : 0.0000\n",
      "MSE  : 0.0000\n",
      "RMSE : 0.0000\n",
      "R²   : 1.0000\n",
      "MAPE : 0.00%\n"
     ]
    }
   ],
   "source": [
    "from sklearn.metrics import mean_absolute_error, mean_squared_error, r2_score\n",
    "import numpy as np\n",
    "\n",
    "# Nilai aktual dan prediksi\n",
    "y_true = df['Klorofil']\n",
    "y_pred = df['Prediksi_Klorofil']\n",
    "\n",
    "# Evaluasi\n",
    "mae = mean_absolute_error(y_true, y_pred)\n",
    "mse = mean_squared_error(y_true, y_pred)\n",
    "rmse = np.sqrt(mse)\n",
    "r2 = r2_score(y_true, y_pred)\n",
    "\n",
    "# Hindari pembagian nol di MAPE\n",
    "y_true_safe = y_true.replace(0, np.finfo(float).eps)\n",
    "mape = np.mean(np.abs((y_true_safe - y_pred) / y_true_safe)) * 100\n",
    "\n",
    "# Tampilkan hasil evaluasi\n",
    "print(\"\\n========== Evaluasi Model ==========\")\n",
    "print(f\"MAE  : {mae:.4f}\")\n",
    "print(f\"MSE  : {mse:.4f}\")\n",
    "print(f\"RMSE : {rmse:.4f}\")\n",
    "print(f\"R²   : {r2:.4f}\")\n",
    "print(f\"MAPE : {mape:.2f}%\")\n"
   ]
  }
 ],
 "metadata": {
  "kernelspec": {
   "display_name": ".venv",
   "language": "python",
   "name": "python3"
  },
  "language_info": {
   "codemirror_mode": {
    "name": "ipython",
    "version": 3
   },
   "file_extension": ".py",
   "mimetype": "text/x-python",
   "name": "python",
   "nbconvert_exporter": "python",
   "pygments_lexer": "ipython3",
   "version": "3.10.11"
  }
 },
 "nbformat": 4,
 "nbformat_minor": 5
}
