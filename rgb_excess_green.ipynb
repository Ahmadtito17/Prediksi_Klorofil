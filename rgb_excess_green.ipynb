{
 "cells": [
  {
   "cell_type": "code",
   "execution_count": 96,
   "id": "424a4d73",
   "metadata": {},
   "outputs": [
    {
     "data": {
      "text/html": [
       "<div>\n",
       "<style scoped>\n",
       "    .dataframe tbody tr th:only-of-type {\n",
       "        vertical-align: middle;\n",
       "    }\n",
       "\n",
       "    .dataframe tbody tr th {\n",
       "        vertical-align: top;\n",
       "    }\n",
       "\n",
       "    .dataframe thead th {\n",
       "        text-align: right;\n",
       "    }\n",
       "</style>\n",
       "<table border=\"1\" class=\"dataframe\">\n",
       "  <thead>\n",
       "    <tr style=\"text-align: right;\">\n",
       "      <th></th>\n",
       "      <th>R= 132   G= 129.80   B=    89.50   73 %</th>\n",
       "    </tr>\n",
       "  </thead>\n",
       "  <tbody>\n",
       "    <tr>\n",
       "      <th>0</th>\n",
       "      <td>R= 132   G= 129.80   B=    69.22   74 %</td>\n",
       "    </tr>\n",
       "    <tr>\n",
       "      <th>1</th>\n",
       "      <td>R= 134   G= 144.20   B=    72.60   74 %</td>\n",
       "    </tr>\n",
       "    <tr>\n",
       "      <th>2</th>\n",
       "      <td>R= 134   G= 129.80   B=    72.60   74 %</td>\n",
       "    </tr>\n",
       "    <tr>\n",
       "      <th>3</th>\n",
       "      <td>R= 134   G= 129.80   B=    72.60   74 %</td>\n",
       "    </tr>\n",
       "    <tr>\n",
       "      <th>4</th>\n",
       "      <td>R= 134   G= 129.80   B=    99.64   73 %</td>\n",
       "    </tr>\n",
       "    <tr>\n",
       "      <th>...</th>\n",
       "      <td>...</td>\n",
       "    </tr>\n",
       "    <tr>\n",
       "      <th>66</th>\n",
       "      <td>R= 127   G= 129.80   B=    82.74   73 %</td>\n",
       "    </tr>\n",
       "    <tr>\n",
       "      <th>67</th>\n",
       "      <td>R= 127   G= 132.20   B=    75.98   72 %</td>\n",
       "    </tr>\n",
       "    <tr>\n",
       "      <th>68</th>\n",
       "      <td>R= 127   G= 132.20   B=    72.60   72 %</td>\n",
       "    </tr>\n",
       "    <tr>\n",
       "      <th>69</th>\n",
       "      <td>R= 127   G= 132.20   B=    75.98   72 %</td>\n",
       "    </tr>\n",
       "    <tr>\n",
       "      <th>70</th>\n",
       "      <td>R= 125   G= 129.80   B=    99.64   72 %</td>\n",
       "    </tr>\n",
       "  </tbody>\n",
       "</table>\n",
       "<p>71 rows × 1 columns</p>\n",
       "</div>"
      ],
      "text/plain": [
       "    R= 132   G= 129.80   B=    89.50   73 %\n",
       "0   R= 132   G= 129.80   B=    69.22   74 %\n",
       "1   R= 134   G= 144.20   B=    72.60   74 %\n",
       "2   R= 134   G= 129.80   B=    72.60   74 %\n",
       "3   R= 134   G= 129.80   B=    72.60   74 %\n",
       "4   R= 134   G= 129.80   B=    99.64   73 %\n",
       "..                                      ...\n",
       "66  R= 127   G= 129.80   B=    82.74   73 %\n",
       "67  R= 127   G= 132.20   B=    75.98   72 %\n",
       "68  R= 127   G= 132.20   B=    72.60   72 %\n",
       "69  R= 127   G= 132.20   B=    75.98   72 %\n",
       "70  R= 125   G= 129.80   B=    99.64   72 %\n",
       "\n",
       "[71 rows x 1 columns]"
      ]
     },
     "execution_count": 96,
     "metadata": {},
     "output_type": "execute_result"
    }
   ],
   "source": [
    "import pandas as pd\n",
    "import re\n",
    "import os \n",
    "\n",
    "# 1. Load Data\n",
    "file_path = \"./Dataset/HH31.xlsx\" \n",
    "df = pd.read_excel(file_path)\n",
    "df"
   ]
  },
  {
   "cell_type": "code",
   "execution_count": 97,
   "id": "74e82d32",
   "metadata": {},
   "outputs": [
    {
     "data": {
      "text/html": [
       "<div>\n",
       "<style scoped>\n",
       "    .dataframe tbody tr th:only-of-type {\n",
       "        vertical-align: middle;\n",
       "    }\n",
       "\n",
       "    .dataframe tbody tr th {\n",
       "        vertical-align: top;\n",
       "    }\n",
       "\n",
       "    .dataframe thead th {\n",
       "        text-align: right;\n",
       "    }\n",
       "</style>\n",
       "<table border=\"1\" class=\"dataframe\">\n",
       "  <thead>\n",
       "    <tr style=\"text-align: right;\">\n",
       "      <th></th>\n",
       "      <th>R</th>\n",
       "      <th>G</th>\n",
       "      <th>B</th>\n",
       "    </tr>\n",
       "  </thead>\n",
       "  <tbody>\n",
       "    <tr>\n",
       "      <th>0</th>\n",
       "      <td>132.0</td>\n",
       "      <td>129.8</td>\n",
       "      <td>69.22</td>\n",
       "    </tr>\n",
       "    <tr>\n",
       "      <th>1</th>\n",
       "      <td>134.0</td>\n",
       "      <td>144.2</td>\n",
       "      <td>72.60</td>\n",
       "    </tr>\n",
       "    <tr>\n",
       "      <th>2</th>\n",
       "      <td>134.0</td>\n",
       "      <td>129.8</td>\n",
       "      <td>72.60</td>\n",
       "    </tr>\n",
       "    <tr>\n",
       "      <th>3</th>\n",
       "      <td>134.0</td>\n",
       "      <td>129.8</td>\n",
       "      <td>72.60</td>\n",
       "    </tr>\n",
       "    <tr>\n",
       "      <th>4</th>\n",
       "      <td>134.0</td>\n",
       "      <td>129.8</td>\n",
       "      <td>99.64</td>\n",
       "    </tr>\n",
       "    <tr>\n",
       "      <th>...</th>\n",
       "      <td>...</td>\n",
       "      <td>...</td>\n",
       "      <td>...</td>\n",
       "    </tr>\n",
       "    <tr>\n",
       "      <th>66</th>\n",
       "      <td>127.0</td>\n",
       "      <td>129.8</td>\n",
       "      <td>82.74</td>\n",
       "    </tr>\n",
       "    <tr>\n",
       "      <th>67</th>\n",
       "      <td>127.0</td>\n",
       "      <td>132.2</td>\n",
       "      <td>75.98</td>\n",
       "    </tr>\n",
       "    <tr>\n",
       "      <th>68</th>\n",
       "      <td>127.0</td>\n",
       "      <td>132.2</td>\n",
       "      <td>72.60</td>\n",
       "    </tr>\n",
       "    <tr>\n",
       "      <th>69</th>\n",
       "      <td>127.0</td>\n",
       "      <td>132.2</td>\n",
       "      <td>75.98</td>\n",
       "    </tr>\n",
       "    <tr>\n",
       "      <th>70</th>\n",
       "      <td>125.0</td>\n",
       "      <td>129.8</td>\n",
       "      <td>99.64</td>\n",
       "    </tr>\n",
       "  </tbody>\n",
       "</table>\n",
       "<p>71 rows × 3 columns</p>\n",
       "</div>"
      ],
      "text/plain": [
       "        R      G      B\n",
       "0   132.0  129.8  69.22\n",
       "1   134.0  144.2  72.60\n",
       "2   134.0  129.8  72.60\n",
       "3   134.0  129.8  72.60\n",
       "4   134.0  129.8  99.64\n",
       "..    ...    ...    ...\n",
       "66  127.0  129.8  82.74\n",
       "67  127.0  132.2  75.98\n",
       "68  127.0  132.2  72.60\n",
       "69  127.0  132.2  75.98\n",
       "70  125.0  129.8  99.64\n",
       "\n",
       "[71 rows x 3 columns]"
      ]
     },
     "execution_count": 97,
     "metadata": {},
     "output_type": "execute_result"
    }
   ],
   "source": [
    "# Ekstraksi data R, G, B menggunakan regex\n",
    "def extract_rgb_regex(row):\n",
    "    match = re.findall(r'R=\\s*(\\d+(?:\\.\\d+)?)\\s*G=\\s*(\\d+(?:\\.\\d+)?)\\s*B=\\s*(\\d+(?:\\.\\d+)?)', row)\n",
    "    if match:\n",
    "        r, g, b = map(float, match[0])\n",
    "        return pd.Series([r, g, b], index=['R', 'G', 'B'])\n",
    "    else:\n",
    "        return pd.Series([None, None, None], index=['R', 'G', 'B'])\n",
    "    \n",
    "# Terapkan fungsi pada kolom pertama\n",
    "rgb_df = df.iloc[:, 0].apply(extract_rgb_regex)\n",
    "rgb_df "
   ]
  },
  {
   "cell_type": "code",
   "execution_count": 98,
   "id": "2af3c401",
   "metadata": {},
   "outputs": [
    {
     "data": {
      "text/plain": [
       "R    128.492958\n",
       "G    131.084507\n",
       "B     85.072676\n",
       "dtype: float64"
      ]
     },
     "execution_count": 98,
     "metadata": {},
     "output_type": "execute_result"
    }
   ],
   "source": [
    "# Hitung rata-rata RGB\n",
    "rgb_avg = rgb_df.mean()\n",
    "rgb_avg"
   ]
  },
  {
   "cell_type": "code",
   "execution_count": 99,
   "id": "2dab22a1",
   "metadata": {},
   "outputs": [
    {
     "data": {
      "text/plain": [
       "48.603380281690136"
      ]
     },
     "execution_count": 99,
     "metadata": {},
     "output_type": "execute_result"
    }
   ],
   "source": [
    "# Hitung nilai Excess Green\n",
    "excess_green = (2 * rgb_avg['G']) - (rgb_avg['R'] + rgb_avg['B'])\n",
    "excess_green"
   ]
  },
  {
   "cell_type": "code",
   "execution_count": 100,
   "id": "4e4e25c5",
   "metadata": {},
   "outputs": [
    {
     "name": "stdout",
     "output_type": "stream",
     "text": [
      "Rata-rata R, G, B:\n",
      "R    128.492958\n",
      "G    131.084507\n",
      "B     85.072676\n",
      "dtype: float64\n",
      "\n",
      "Nilai Excess Green (ExG): 48.603380281690136\n"
     ]
    }
   ],
   "source": [
    "print(\"Rata-rata R, G, B:\")\n",
    "print(rgb_avg)\n",
    "print(f\"\\nNilai Excess Green (ExG): {excess_green}\")"
   ]
  },
  {
   "cell_type": "code",
   "execution_count": 101,
   "id": "4a54f32f",
   "metadata": {},
   "outputs": [
    {
     "name": "stdout",
     "output_type": "stream",
     "text": [
      "Hasil disimpan ke: ./outputRGB/Hasil_RGB_ExG_HH31.xlsx\n"
     ]
    }
   ],
   "source": [
    "# Export hasil ke Excel \n",
    "file_name = os.path.splitext(os.path.basename(file_path))[0]\n",
    "output_folder = \"./outputRGB/\"\n",
    "output_file = f\"Hasil_RGB_ExG_{file_name}.xlsx\"\n",
    "output_path = os.path.join(output_folder, output_file)\n",
    "\n",
    "result_df = pd.DataFrame({\n",
    "    'Rata-rata R': [rgb_avg['R']],\n",
    "    'Rata-rata G': [rgb_avg['G']],\n",
    "    'Rata-rata B': [rgb_avg['B']],\n",
    "    'Excess Green (ExG)': [excess_green]\n",
    "})\n",
    "\n",
    "result_df.to_excel(output_path, index=False)\n",
    "\n",
    "print(f\"Hasil disimpan ke: {output_path}\")"
   ]
  }
 ],
 "metadata": {
  "kernelspec": {
   "display_name": ".venv",
   "language": "python",
   "name": "python3"
  },
  "language_info": {
   "codemirror_mode": {
    "name": "ipython",
    "version": 3
   },
   "file_extension": ".py",
   "mimetype": "text/x-python",
   "name": "python",
   "nbconvert_exporter": "python",
   "pygments_lexer": "ipython3",
   "version": "3.10.11"
  }
 },
 "nbformat": 4,
 "nbformat_minor": 5
}
